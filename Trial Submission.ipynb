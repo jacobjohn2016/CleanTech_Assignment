{
 "cells": [
  {
   "cell_type": "markdown",
   "metadata": {},
   "source": [
    "# Trial Submission\n",
    "\n",
    "## Problem Statement\n",
    "\n",
    "1. The folder `raw.zip` has raw files which were measured in a station. As the name indicates, there are:\n",
    "    * 2 inverters, \n",
    "    * 1 energy meter (named MFM) and \n",
    "    * 1 meteorological substation (named WMS)\n",
    "2. The raw data is a stream of data which gets recorded by the sensors on the field and is sent over the cloud.\n",
    "3. The raw data is cleansed into a Gen-1 data format, here the following operations are performed:\n",
    "    1. For Inverters: column i32 indicates the timestamp of the row. Make this as the first column in the Gen1 file and rename the column header to ‘Timestamp’).\n",
    "    2. For Energy meters (MFM): Same rules as above, only difference is timestamp column is m63\n",
    "    3. For Meteorological Substation (WMS): Same rules as above, only difference is timestamp column is w23\n",
    "    \n",
    "Sample Gen-1 data for some of the raw days is also provided (`\\sample`)\n",
    "\n",
    "**The data in the sample gen1 files have been bucketed into 5-min intervals. Ignore this operation*\n",
    "\n",
    "## Expected output format:\n",
    "\n",
    "There needs to be a Gen-1 file for every raw data file. The attached `raw.zip` has data foreach substation. The output format needs to be as follows:\n",
    "\n",
    "```\n",
    "[Station ID]    \n",
    "     |---> [Year]\n",
    "             |---->[Year-Month]\n",
    "                        |--->[Substation-ID]\n",
    "                                    |---> [Gen-1 Data.txt]\n",
    "```\n",
    "\n",
    "* The station ID for the given raw data is IN-023C.\n",
    "* Year needs to be determined based on the timestamp of the file\n",
    "* Year-Month needs to be determined based on the timestamp of the file\n",
    "* Substation-ID depends on the substation read (example Inverter-1, MFM, WMS etc)\n",
    "* Gen 1 `Data.txt` has the same name as the raw file.txt\n",
    "\n",
    "Attached an example for your reference:\n",
    "\n",
    "**Files to be submitted:**\n",
    "\n",
    "* Gen-1 data (Zipped file maintaining folder structure described above)\n",
    "* Python Code used to generate Gen-1 data with comments"
   ]
  },
  {
   "cell_type": "code",
   "execution_count": 16,
   "metadata": {},
   "outputs": [],
   "source": [
    "# importing libraries\n",
    "\n",
    "import pandas as pd\n",
    "import glob"
   ]
  },
  {
   "cell_type": "code",
   "execution_count": 13,
   "metadata": {},
   "outputs": [
    {
     "name": "stdout",
     "output_type": "stream",
     "text": [
      "\u001b[01;34mdata/[IN-023C]/2018/2018-12\u001b[00m\r\n",
      "├── \u001b[01;34mInverter_1\u001b[00m\r\n",
      "├── \u001b[01;34mInverter_2\u001b[00m\r\n",
      "├── \u001b[01;34mMFM\u001b[00m\r\n",
      "└── \u001b[01;34mWMS\u001b[00m\r\n",
      "\r\n",
      "4 directories, 0 files\r\n"
     ]
    }
   ],
   "source": [
    "!tree -L 1 data/[IN-023C]/2018/2018-12"
   ]
  },
  {
   "cell_type": "code",
   "execution_count": 14,
   "metadata": {},
   "outputs": [
    {
     "name": "stdout",
     "output_type": "stream",
     "text": [
      "\u001b[01;34mdata/[IN-023C]/2019/2019-01\u001b[00m\r\n",
      "├── \u001b[01;34mInverter_1\u001b[00m\r\n",
      "├── \u001b[01;34mInverter_2\u001b[00m\r\n",
      "├── \u001b[01;34mMFM\u001b[00m\r\n",
      "└── \u001b[01;34mWMS\u001b[00m\r\n",
      "\r\n",
      "4 directories, 0 files\r\n"
     ]
    }
   ],
   "source": [
    "!tree -L 1 data/[IN-023C]/2019/2019-01"
   ]
  },
  {
   "cell_type": "code",
   "execution_count": null,
   "metadata": {},
   "outputs": [],
   "source": []
  }
 ],
 "metadata": {
  "kernelspec": {
   "display_name": "Python 3",
   "language": "python",
   "name": "python3"
  },
  "language_info": {
   "codemirror_mode": {
    "name": "ipython",
    "version": 3
   },
   "file_extension": ".py",
   "mimetype": "text/x-python",
   "name": "python",
   "nbconvert_exporter": "python",
   "pygments_lexer": "ipython3",
   "version": "3.7.7"
  }
 },
 "nbformat": 4,
 "nbformat_minor": 4
}
